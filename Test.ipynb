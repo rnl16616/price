{
 "cells": [
  {
   "cell_type": "code",
   "execution_count": 6,
   "metadata": {},
   "outputs": [
    {
     "name": "stdout",
     "output_type": "stream",
     "text": [
      "Index: 0 Symbol: ^FTAS Last date: 2017-09-01 Count: 1937\n",
      "Index: 1 Symbol: ^N225 Last date: 2017-09-01 Count: 1882\n",
      "Index: 2 Symbol: ^GDAXI Last date: 2017-09-01 Count: 1950\n",
      "Index: 3 Symbol: ^GSPC Last date: 2017-09-01 Count: 1931\n",
      "Index: 4 Symbol: GLD Last date: 2017-09-01 Count: 1931\n",
      "Index: 5 Symbol: ACWI Last date: 2017-09-01 Count: 1931\n",
      "Index: 6 Symbol: WGC/GOLD_DAILY_USD Last date: 2017-09-01 Count: 10127\n",
      "Index: 7 Symbol: ODA/PALLFNF_INDEX Last date: 2017-06-30 Count: 306\n",
      "Index: 8 Symbol: FRED/DFF Last date: 2017-08-31 Count: 23073\n",
      "Index: 9 Symbol: BOE/IUDBEDR Last date: 2017-08-31 Count: 10787\n",
      "Index: 10 Symbol: BUNDESBANK/BBK01_SU0202 Last date: 2017-07-31 Count: 223\n",
      "Index: 11 Symbol: FRED/DGS10 Last date: 2017-08-31 Count: 13903\n",
      "Index: 12 Symbol: ECB/FM_M_U2_EUR_4F_BB_U2_10Y_YLD Last date: 2017-05-31 Count: 569\n",
      "Index: 13 Symbol: BOE/IUDMNPY Last date: 2017-08-30 Count: 6022\n",
      "Index: 14 Symbol: MOFJ/INTEREST_RATE_JAPAN_10Y Last date: 2017-08-31 Count: 7734\n",
      "Index: 15 Symbol: CHRIS/ICE_DX1 Last date: 2017-09-01 Count: 8112\n",
      "Index: 16 Symbol: BOE/XUDLGBD Last date: 2017-08-31 Count: 10787\n",
      "Index: 17 Symbol: BOE/XUDLBK73 Last date: 2017-08-31 Count: 3139\n",
      "Index: 18 Symbol: BOE/XUDLJYD Last date: 2017-08-31 Count: 10787\n",
      "Index: 19 Symbol: BOE/XUDLERD Last date: 2017-08-31 Count: 10787\n",
      "Index: 20 Symbol: RATEINF/CPI_USA Last date: 2017-07-31 Count: 1255\n",
      "Index: 21 Symbol: RATEINF/CPI_JPN Last date: 2017-07-31 Count: 571\n",
      "Index: 22 Symbol: RATEINF/CPI_EUR Last date: 2017-07-31 Count: 331\n",
      "Index: 23 Symbol: RATEINF/CPI_GBR Last date: 2017-07-31 Count: 355\n"
     ]
    }
   ],
   "source": [
    "from database import Prices, Host, Database\n",
    "\n",
    "price = Prices()\n",
    "price.report()"
   ]
  },
  {
   "cell_type": "code",
   "execution_count": 20,
   "metadata": {},
   "outputs": [
    {
     "data": {
      "text/html": [
       "<div>\n",
       "<style>\n",
       "    .dataframe thead tr:only-child th {\n",
       "        text-align: right;\n",
       "    }\n",
       "\n",
       "    .dataframe thead th {\n",
       "        text-align: left;\n",
       "    }\n",
       "\n",
       "    .dataframe tbody tr th {\n",
       "        vertical-align: top;\n",
       "    }\n",
       "</style>\n",
       "<table border=\"1\" class=\"dataframe\">\n",
       "  <thead>\n",
       "    <tr style=\"text-align: right;\">\n",
       "      <th></th>\n",
       "      <th>symbol</th>\n",
       "      <th>date</th>\n",
       "      <th>price</th>\n",
       "    </tr>\n",
       "  </thead>\n",
       "  <tbody>\n",
       "  </tbody>\n",
       "</table>\n",
       "</div>"
      ],
      "text/plain": [
       "Empty DataFrame\n",
       "Columns: [symbol, date, price]\n",
       "Index: []"
      ]
     },
     "execution_count": 20,
     "metadata": {},
     "output_type": "execute_result"
    }
   ],
   "source": [
    "data = Database()\n",
    "select_query = \"select * from price where symbol ='^FTA'\"\n",
    "\n",
    "result = data.get(select_query)\n",
    "result"
   ]
  },
  {
   "cell_type": "code",
   "execution_count": 21,
   "metadata": {},
   "outputs": [
    {
     "data": {
      "text/plain": [
       "nan"
      ]
     },
     "execution_count": 21,
     "metadata": {},
     "output_type": "execute_result"
    }
   ],
   "source": [
    "result.date.max()"
   ]
  },
  {
   "cell_type": "code",
   "execution_count": 22,
   "metadata": {},
   "outputs": [
    {
     "name": "stdout",
     "output_type": "stream",
     "text": [
      "Date later\n"
     ]
    }
   ],
   "source": [
    "import pandas\n",
    "today = pandas.to_datetime('today')\n",
    "db_latest_date = pandas.to_datetime(result.date.max())\n",
    "if db_latest_date < today:\n",
    "    print(\"Date earlier: {}\".format(db_latest_date))\n",
    "else:\n",
    "    print(\"Date later\")"
   ]
  }
 ],
 "metadata": {
  "kernelspec": {
   "display_name": "Python 3",
   "language": "python",
   "name": "python3"
  },
  "language_info": {
   "codemirror_mode": {
    "name": "ipython",
    "version": 3
   },
   "file_extension": ".py",
   "mimetype": "text/x-python",
   "name": "python",
   "nbconvert_exporter": "python",
   "pygments_lexer": "ipython3",
   "version": "3.6.1"
  }
 },
 "nbformat": 4,
 "nbformat_minor": 2
}
